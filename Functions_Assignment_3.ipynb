{
  "nbformat": 4,
  "nbformat_minor": 0,
  "metadata": {
    "colab": {
      "provenance": []
    },
    "kernelspec": {
      "name": "python3",
      "display_name": "Python 3"
    },
    "language_info": {
      "name": "python"
    }
  },
  "cells": [
    {
      "cell_type": "markdown",
      "source": [
        "# Assignment 3 : Functions"
      ],
      "metadata": {
        "id": "Zg_DuI2LQpUE"
      }
    },
    {
      "cell_type": "markdown",
      "source": [
        "## Q1 . What is the difference between a function and a method in Python ?\n",
        "\n",
        "####  Ans : In Python, a function is a block of code that is defined outside of a class, while a method is a block of code that is associated with an object and defined inside a class.\n",
        "\n",
        "># Functions :\n",
        ">> A function is a standalone unit of code that can be called independently. You can pass data to it as arguments, and it can return data. You define a function using the `def` keyword.\n",
        "\n",
        "> **Example** :  *`greet` is a function that takes a name and returns a greeting. It isn't tied to any specific object or class.\n",
        "\n",
        "># Methods :\n",
        ">> A method is a function that belongs to a class and operates on an instance of that class. It is defined within the class and is implicitly passed the instance it's called on as its first argument, conventionally named `self`.\n",
        "\n",
        ">**Example** : `bark` is a method of the `Dog` class. It's called on the my_dog object (my_dog.bark()) and can access the object's attributes, like `self.name`. It can't be called on its own like a regular function.\n",
        "\n",
        "\n",
        "\n",
        "\n",
        "\n",
        "\n",
        "\n"
      ],
      "metadata": {
        "id": "6ll3RvBDRKUl"
      }
    },
    {
      "cell_type": "code",
      "source": [
        "# Example of Functions :\n",
        "def greet(name):\n",
        "    return f\"Hello, {name}!\"\n",
        "\n",
        "print(greet(\"Sameer\"))\n",
        "\n",
        "\n",
        "# Example of Methods :\n",
        "\n",
        "class Dog:\n",
        "    def __init__(self, name, breed):\n",
        "        self.name = name\n",
        "        self.breed = breed\n",
        "\n",
        "    def bark(self):\n",
        "        return f\"{self.name} says woof!\"\n",
        "\n",
        "my_dog = Dog(\"Fido\", \"Golden Retriever\")\n",
        "print(my_dog.bark())\n"
      ],
      "metadata": {
        "colab": {
          "base_uri": "https://localhost:8080/"
        },
        "id": "i0PVInkESwED",
        "outputId": "04c5ba5a-a691-4288-e5bc-bb6d938e9b9c"
      },
      "execution_count": null,
      "outputs": [
        {
          "output_type": "stream",
          "name": "stdout",
          "text": [
            "Hello, Sameer!\n",
            "Fido says woof!\n"
          ]
        }
      ]
    },
    {
      "cell_type": "markdown",
      "source": [
        "## Q2 . Explain the concept of function arguments and parameters in Python.\n",
        "\n",
        "#### Ans : Function parameters are the named variables in a function’s definition, while arguments are the actual values supplied to those parameters when the function is called. Example: in `def` add(a, b): `retur`n a + b, a and b are parameters; in add(2, 3), 2 and 3 are arguments.\n",
        "\n",
        ">## Parameters :\n",
        ">> Parameters are placeholders for the data that a function needs to perform its task. They are defined in the parentheses of the function header.\n",
        "\n",
        ">* In this example, \"`Sameer`\" is the argument provided when calling the **greet** function. The value \"`Sameer`\" is assigned to the `name` parameter inside the function.\n",
        "\n",
        "\n",
        "\n",
        "\n",
        "\n",
        "\n",
        "\n",
        "\n",
        "\n",
        "> ## Arguments :\n",
        ">> Arguments are the actual values you pass to the function when you call it. These values are assigned to the corresponding parameters.\n",
        "\n",
        ">* In this example, `name` is the parameter of the `greet` function. It's a variable that will hold the value passed into the function\n",
        "\n"
      ],
      "metadata": {
        "id": "45oIyXw4WDKN"
      }
    },
    {
      "cell_type": "code",
      "source": [
        "# Example of parameter :\n",
        "\n",
        "def greet(name):  # 'name' is the parameter\n",
        "    print(f\"Hello, {name}!\")\n",
        "\n",
        "# Example of Argument :\n",
        "def greet(name):\n",
        "    print(f\"Hello, {name}!\")\n",
        "\n",
        "greet(\"Sameer\")  # \"Sameer\" is the argument"
      ],
      "metadata": {
        "colab": {
          "base_uri": "https://localhost:8080/"
        },
        "id": "2w5DmYFkY54k",
        "outputId": "deed994c-f5fd-4d36-ba26-ad0ef4700ad4"
      },
      "execution_count": null,
      "outputs": [
        {
          "output_type": "stream",
          "name": "stdout",
          "text": [
            "Hello, Sameer!\n"
          ]
        }
      ]
    },
    {
      "cell_type": "markdown",
      "source": [
        "## Q3 . What are the different ways to define and call a function in Python?\n",
        "\n",
        "#### Ans : To define a function in Python, you use the def keyword, followed by the function name, parentheses (), and a colon :. The code block for the function must be indented. You can then call the function by writing its name followed by parentheses ().\n",
        "\n",
        ">## Defining a Function :\n",
        "\n",
        "The basic syntax for defining a function is :\n",
        "\n",
        ">* **def** : A keyword that marks the start of a function definition.\n",
        "\n",
        ">* **function_name** : A unique identifier for the function.\n",
        "\n",
        ">* **parameters** : Optional input variables the function accepts.\n",
        "\n",
        ">* **docstring** : An optional string literal to describe the function.\n",
        "\n",
        ">* **return** : An optional statement to send a value back from the function.\n",
        "\n",
        ">## Calling a Function :\n",
        "\n",
        ">> A function call executes the code defined within the function.\n",
        "\n",
        ">1. **Simple Call (no arguments)** : For a function that doesn't require input, you simply call it by its name with empty parentheses .\n",
        "\n",
        ">2. **Positional Arguments** : Arguments are passed in the same order as the parameters are defined. The first argument corresponds to the first parameter, the second to the second, and so on.\n",
        "\n",
        ">3. **Keyword Arguments** : You can specify arguments using the parameter names, which allows you to pass them in any order.\n",
        "\n",
        ">4. **Default Arguments** : You can define a default value for a parameter. If an argument for that parameter isn't provided during the function call, the default value is used.\n",
        "\n",
        "\n",
        "\n",
        "\n",
        "\n",
        "\n"
      ],
      "metadata": {
        "id": "EG_6SnXHbjra"
      }
    },
    {
      "cell_type": "code",
      "source": [
        "# Example of calling a function :\n",
        "\n",
        "def say_hello():\n",
        "    print(\"Hello!\")\n",
        "\n",
        "say_hello()\n",
        "\n",
        "# Example of positional Arguments :\n",
        "\n",
        "def greet(name, age):\n",
        "    print(f\"Hello, {name}! You are {age} years old.\")\n",
        "\n",
        "greet(\"Aditya\", 24)\n",
        "\n",
        "# Example of keyword Arguments :\n",
        "\n",
        "def greet(name, age):\n",
        "    print(f\"Hello, {name}! You are {age} years old.\")\n",
        "\n",
        "greet(age=21, name=\"Aniket\")\n",
        "\n",
        "# Example of Default Arguments :\n",
        "\n",
        "def greet(name, greeting=\"Hello\"):\n",
        "    print(f\"{greeting}, {name}!\")\n",
        "\n",
        "greet(\"Mahnoor\")\n",
        "greet(\"Charlie\", \"Hi\")\n",
        "\n"
      ],
      "metadata": {
        "colab": {
          "base_uri": "https://localhost:8080/"
        },
        "id": "yq4MritxfgBl",
        "outputId": "96063673-895d-4141-dc11-23fa3ed631a5"
      },
      "execution_count": null,
      "outputs": [
        {
          "output_type": "stream",
          "name": "stdout",
          "text": [
            "Hello!\n",
            "Hello, Aditya! You are 24 years old.\n",
            "Hello, Aniket! You are 21 years old.\n",
            "Hello, Mahnoor!\n",
            "Hi, Charlie!\n"
          ]
        }
      ]
    },
    {
      "cell_type": "markdown",
      "source": [
        "## Q4 . What is the purpose of the `return` statement in a Python function?\n",
        "\n",
        "#### Ans : The return statement ends a function’s execution and sends a value back to the caller; if omitted or used without a value, the function returns None. Code after return in the same function does not execute, and the returned value can be stored, composed, or passed to other functions.\n",
        "\n",
        ">#### Key points :\n",
        "\n",
        ">* **Purpose** : terminate the function and provide its result to the caller; any Python object can be returned (`numbers`, `strings`, `lists`, `dicts`, `tuples`, `objects`, even functions).\n",
        "\n",
        ">* **No value** : a bare return, or no return at all, yields None implicitly.\n",
        "\n",
        ">* **Early exits** : multiple returns enable guard clauses and clear branching.\n"
      ],
      "metadata": {
        "id": "nsgxKz3rkkAq"
      }
    },
    {
      "cell_type": "code",
      "source": [
        "# Example of Return Statement :\n",
        "\n",
        "def add_numbers(a, b):\n",
        "    \"\"\"Adds two numbers and returns the sum.\"\"\"\n",
        "    result = a + b\n",
        "    return result\n",
        "\n",
        "# The value 8 is returned by the function and stored in the 'sum_result' variable.\n",
        "sum_result = add_numbers(3, 5)\n",
        "print(sum_result)\n",
        "\n",
        "\n",
        "\n",
        "# Example of Existing the Functions :\n",
        "\n",
        "def check_age(age):\n",
        "    \"\"\"Checks if a person is old enough to vote.\"\"\"\n",
        "    if age < 18:\n",
        "        print(\"You are not old enough to vote.\")\n",
        "        return  # Exits the function early if the condition is met.\n",
        "\n",
        "    print(\"You are old enough to vote.\")\n",
        "\n",
        "check_age(16)\n",
        "\n",
        "\n",
        "print(\"---\")\n",
        "\n",
        "check_age(20)\n",
        "\n"
      ],
      "metadata": {
        "colab": {
          "base_uri": "https://localhost:8080/"
        },
        "id": "CKoGZ5YVnJhg",
        "outputId": "5fe61c2e-029a-4e83-a829-709991552b48"
      },
      "execution_count": null,
      "outputs": [
        {
          "output_type": "stream",
          "name": "stdout",
          "text": [
            "8\n",
            "You are not old enough to vote.\n",
            "---\n",
            "You are old enough to vote.\n"
          ]
        }
      ]
    },
    {
      "cell_type": "markdown",
      "source": [
        "## Q5 . What are iterators in Python and how do they differ from iterables?\n",
        "\n",
        "#### Ans : Iterators and iterables are fundamental concepts for working with collections of data in Python. An iterable is an object you can loop over, while an iterator is an object that keeps track of the current position during iteration. All iterators are iterables, but not all iterables are iterators.\n",
        "\n",
        ">**Iterable** :\n",
        "\n",
        "> An `iterable` is any Python object that you can loop over. It's a container that can return one of its members at a time. The key characteristic of an iterable is that it has an `__iter__` method, which is called by the iter() built-in function to create an iterator. **Examples** include `lists`, `tuples`, `strings`, and `dictionaries`. You can use an iterable in a for loop directly.\n",
        "\n",
        "\n",
        "> **Iterators** :\n",
        "\n",
        "> An iterator is an object that represents a stream of data. It has two essential methods:\n",
        "\n",
        ">1. __iter__() : Returns the iterator object itself. This is required to make an iterator an iterable.\n",
        "\n",
        ">2. __next__() : Returns the next item from the stream. When there are no more 2. items, it raises a StopIteration exception.\n",
        "\n",
        "\n",
        ">#### The for loop works by first calling iter() on the iterable to get an iterator, and then repeatedly calling next() on that iterator until it raises StopIteration.\n",
        "\n",
        ">#### Key differences :\n",
        "\n",
        ">* **Creation** : iterables are data containers; calling iter(iterable) produces an iterator. Iterators are typically obtained from iterables or built by implementing iter/next.\n",
        "\n",
        ">* **State and exhaustion** : iterables can produce a fresh iterator each time, so they are not inherently “used up.” Iterators maintain iteration state and become exhausted after traversal.\n",
        "\n",
        ">* **Methods** : iterable must provide iter (or getitem with 0-based indexing); iterator must provide both iter and next.\n",
        "\n",
        "\n",
        "\n",
        "\n",
        "\n",
        "\n"
      ],
      "metadata": {
        "id": "8_2cUlNIoXG0"
      }
    },
    {
      "cell_type": "code",
      "source": [
        "# Example of Iterable :\n",
        "my_list = [1, 2, 3]  # This is an iterable\n",
        "for item in my_list:\n",
        "    print(item)\n",
        "\n",
        "\n",
        "# Example of Iterators :\n",
        "my_list = [1, 2, 3]\n",
        "my_iterator = iter(my_list)  # Get an iterator from the iterable\n",
        "\n",
        "print(next(my_iterator))  # Calls the __next__() method\n",
        "print(next(my_iterator))\n",
        "print(next(my_iterator))\n",
        "                          # This would raise a StopIteration error\n",
        "\n"
      ],
      "metadata": {
        "colab": {
          "base_uri": "https://localhost:8080/"
        },
        "id": "Qs466UJCp_fL",
        "outputId": "3bda2585-bbef-49ee-dda4-9229b1383a34"
      },
      "execution_count": null,
      "outputs": [
        {
          "output_type": "stream",
          "name": "stdout",
          "text": [
            "1\n",
            "2\n",
            "3\n",
            "1\n",
            "2\n",
            "3\n"
          ]
        }
      ]
    },
    {
      "cell_type": "markdown",
      "source": [
        "## Q6 . Explain the concept of generators in Python and how they are defined."
      ],
      "metadata": {
        "id": "10-yvR06t5Gv"
      }
    },
    {
      "cell_type": "markdown",
      "metadata": {
        "id": "04df3a93"
      },
      "source": [
        "#### Ans : Generators are a special type of iterator in Python that allow you to iterate over a sequence of values, but they generate these values on the fly instead of storing them all in memory. This makes them very memory-efficient, especially when dealing with large datasets or infinite sequences.\n",
        "\n",
        "> **How they are defined :**\n",
        "\n",
        "> Generators are defined like regular functions, but instead of using the `return` statement to return a single value and exit, they use the `yield` statement to produce a sequence of values. When a generator function is called, it doesn't execute the code immediately. Instead, it returns a generator object. The code within the generator function is executed only when `next()` is called on the generator object (either explicitly or implicitly in a `for` loop).\n",
        "\n",
        "> The `yield` statement pauses the function's execution and saves its state. When `next()` is called again, the function resumes from where it left off.\n",
        "\n",
        "> **Key characteristics of generators :**\n",
        "\n",
        "> * **Memory efficient:** They produce values one at a time, so they don't need to store the entire sequence in memory.\n",
        "> * **Lazy evaluation:** Values are generated only when requested.\n",
        "> * **Can be used in `for` loops:** Like other iterators, generators can be used directly in `for` loops.\n",
        "> * **Can be infinite:** Generators can produce infinite sequences of values."
      ]
    },
    {
      "cell_type": "code",
      "metadata": {
        "colab": {
          "base_uri": "https://localhost:8080/"
        },
        "id": "69826dd9",
        "outputId": "a75d4825-4b62-4dbe-bddf-80a14a799c52"
      },
      "source": [
        "# Example of a generator function:\n",
        "def countdown(n):\n",
        "    while n > 0:\n",
        "        yield n\n",
        "        n -= 1\n",
        "\n",
        "# Using the generator:\n",
        "for number in countdown(5):\n",
        "    print(number)\n",
        "\n",
        "# Another example of a generator:\n",
        "def fibonacci_sequence():\n",
        "    a, b = 0, 1\n",
        "    while True:\n",
        "        yield a\n",
        "        a, b = b, a + b\n",
        "\n"
      ],
      "execution_count": null,
      "outputs": [
        {
          "output_type": "stream",
          "name": "stdout",
          "text": [
            "5\n",
            "4\n",
            "3\n",
            "2\n",
            "1\n"
          ]
        }
      ]
    },
    {
      "cell_type": "markdown",
      "source": [
        "## Q7 . What are the advantages of using generators over regular functions ?\n",
        "\n",
        "#### Ans : The main advantages of using generators over regular functions are memory efficiency and the ability to handle infinite sequences. Generators produce values one at a time, on demand, which avoids storing the entire sequence in memory.\n",
        "\n",
        "> 1 . **Memory Efficiency** :\n",
        "\n",
        ">* Generators are \"lazy\" because they don't compute all their values at once. A generator function pauses after yielding a value, saving its state in memory. This is especially beneficial when dealing with large datasets that wouldn't fit into your system's memory.\n",
        "\n",
        "\n",
        ">**Example** : To process a massive log file line by line, a normal function would read the entire file into a list, which could consume a lot of RAM. A generator, however, would yield one line at a time, processing it and then moving on to the next, with a minimal memory footprint.\n",
        "\n",
        "\n",
        ">2 . **Handling Infinite Sequences** :\n",
        "\n",
        ">* Since generators produce values one by one, they can be used to represent infinite sequences. A normal function could never compute and return an infinite list, as it would run forever. Generators, on the other hand, can be iterated over as long as needed.\n",
        "\n",
        "\n",
        "\n",
        ">**Example** :  A generator can be used to produce an infinite stream of natural numbers. You can take as many as you need without any risk of a memory error.\n",
        "\n",
        ">3 . **Simpler Code and Readability** :\n",
        "\n",
        ">* Generators can make code simpler and more readable, especially when creating a data processing pipeline. You can chain multiple generators together, with each one performing a specific operation on the data stream, without creating intermediate lists.\n",
        "\n",
        "\n",
        "> **Example** :  A pipeline to read numbers from a file, filter for even numbers, and then calculate their sum can be elegantly built with generators.\n",
        "\n",
        "\n",
        "\n",
        "\n"
      ],
      "metadata": {
        "id": "92iOyx_Nx3RY"
      }
    },
    {
      "cell_type": "markdown",
      "source": [
        "##Q8 . What is a lambda function in Python and when is it typically used ?\n",
        "#### Ans : A lambda function is a small, anonymous function defined with the syntax lambda parameters: expression that evaluates and returns a single expression. It's typically used for short, throwaway operations—especially as an inline callback in functions like map, filter, sorted(key=...), or when defining quick one-off transformations without creating a named def function.\n",
        "\n",
        ">#### Key Characteristics :\n",
        "\n",
        ">1. **Anonymous** : It doesn't have a formal name like a standard function.\n",
        "\n",
        ">2. **Single Expression** : It can only contain a single expression, which is evaluated and returned.\n",
        "\n",
        ">3. **Syntax** : lambda arguments: expression.\n",
        "\n",
        "> #### When to Use Lambda Functions :\n",
        "\n",
        "> * Lambda functions are typically used for a short, simple operation where a full function definition would be overkill. They are most commonly found in conjunction with higher-order functions—functions that take other functions as arguments.\n",
        "\n",
        "> **Example with `filter`()** : The filter() function takes a function and an iterable as arguments. The function should return a boolean value, and filter() returns an iterator with the items for which the function returned True. A lambda function is perfect for this task.\n",
        "\n",
        "> **Example with `sorted`**() : The sorted() function can take a key argument, which is a function that returns a value to sort by. A lambda is often used here for simple sorting logic.\n",
        "\n"
      ],
      "metadata": {
        "id": "hBFfLRdU2bwy"
      }
    },
    {
      "cell_type": "code",
      "source": [
        "# example of filter functions :\n",
        "\n",
        "\n",
        "numbers = [1, 2, 3, 4, 5, 6, 7, 8, 9, 10]\n",
        "\n",
        "# Use a lambda function to filter out even numbers\n",
        "even_numbers = list(filter(lambda x: x % 2 == 0, numbers))\n",
        "\n",
        "print(even_numbers)\n",
        "\n",
        "\n",
        "# Example of Sorted functions :\n",
        "\n",
        "students = [('Rida', 88), ('Rohan', 92), ('Mansi', 78)]\n",
        "\n",
        "# Sort the list of tuples by the second element (the score)\n",
        "sorted_students = sorted(students, key=lambda student: student[1])\n",
        "\n",
        "print(sorted_students)\n"
      ],
      "metadata": {
        "colab": {
          "base_uri": "https://localhost:8080/"
        },
        "id": "h2bwsky2KXwS",
        "outputId": "99addb94-d847-46e7-a871-50db9e1e5e10"
      },
      "execution_count": null,
      "outputs": [
        {
          "output_type": "stream",
          "name": "stdout",
          "text": [
            "[2, 4, 6, 8, 10]\n",
            "[('Mansi', 78), ('Rida', 88), ('Rohan', 92)]\n"
          ]
        }
      ]
    },
    {
      "cell_type": "markdown",
      "source": [],
      "metadata": {
        "id": "4bUNZcGv2uHx"
      }
    },
    {
      "cell_type": "markdown",
      "source": [
        "## Q9 . Explain the purpose and usage of the `map()` function in Python.\n",
        "\n",
        "#### Ans : The map() function applies a given callable to every item of one or more iterables and returns a lazy iterator of the results. It’s used to express element-wise transformations succinctly, often with a lambda or existing function, without writing an explicit loop.\n",
        "\n",
        ">**Purpose** :\n",
        "\n",
        ">* Transform each element of an iterable by a specified function, producing a stream of transformed values that can be iterated, converted to list/tuple/set, or piped into other operations.\n",
        "\n",
        ">* Supports multiple iterables in parallel; the function must accept as many parameters as iterables provided, and iteration stops at the shortest iterable.\n",
        "\n",
        ">**Usage and Syntax** :\n",
        "\n",
        ">* The syntax for map() is:\n",
        "map(function, iterable)\n",
        "\n",
        ">* function: The function to be applied to each item. This can be a built-in function, a user-defined function, or a lambda function.\n",
        "\n",
        ">* iterable: The sequence (e.g., list, tuple, string) whose items the function will be applied to.\n",
        "\n",
        "- Since map() returns a map object (an iterator), you often need to convert it to another data type, such as a list or tuple, to see the results.\n",
        "\n",
        "\n"
      ],
      "metadata": {
        "id": "xJTMRmNNLl72"
      }
    },
    {
      "cell_type": "markdown",
      "source": [],
      "metadata": {
        "id": "2pR7nNoCxuJ1"
      }
    },
    {
      "cell_type": "markdown",
      "source": [
        "## Q10 . What is the difference between `map()`, `reduce()`, and `filter()` functions in Python?\n",
        "\n",
        "#### Ans : The primary difference between `map()`, `reduce()`, and `filter()` lies in their purpose: `map()` transforms, `filter()` selects, and `reduce()` aggregates. All three are built-in functions that apply a function to an iterable, but they produce different types of results.\n",
        "\n",
        ">## **map()** :\n",
        "\n",
        "> * The map() function applies a given function to every item in an iterable and returns a new iterable containing the transformed items. Its purpose is to transform a sequence of values on a one-to-one basis.\n",
        "\n",
        "> **Example** : To square every number in a list:\n",
        "\n",
        ">## **filter()** :\n",
        "\n",
        ">* The filter() function constructs an iterator from elements of an iterable for which a function returns a truthy value. Its purpose is to select a subset of elements that satisfy a specific condition.\n",
        "\n",
        "> **Example** : To get only the even numbers from a list:\n",
        "\n",
        ">## **reduce()** :\n",
        "\n",
        ">* The reduce() function, found in the functools module, applies a function of two arguments cumulatively to the items of an iterable, from left to right, to reduce the iterable to a single cumulative value.\n",
        "\n",
        "> **Example :** To find the sum of all numbers in a list:\n",
        "\n",
        "\n",
        "\n",
        "\n",
        "\n"
      ],
      "metadata": {
        "id": "alN4htLOOvNP"
      }
    },
    {
      "cell_type": "code",
      "source": [
        "#Example of map():\n",
        "\n",
        "numbers = [1, 2, 3, 4]\n",
        "squared = list(map(lambda x: x**2, numbers))\n",
        "print(squared)\n",
        "\n",
        "\n",
        "# Example of Filter() :\n",
        "\n",
        "numbers = [1, 2, 3, 4, 5, 6]\n",
        "even_numbers = list(filter(lambda x: x % 2 == 0, numbers))\n",
        "print(even_numbers)\n",
        "\n",
        "\n",
        "# Example Reduced() :\n",
        "\n",
        "from functools import reduce\n",
        "numbers = [1, 2, 3, 4]\n",
        "total = reduce(lambda x, y: x + y, numbers)\n",
        "print(total)"
      ],
      "metadata": {
        "colab": {
          "base_uri": "https://localhost:8080/"
        },
        "id": "dJ7BgM5bRr9n",
        "outputId": "7790ad90-622e-4f15-a032-7ff355779669"
      },
      "execution_count": null,
      "outputs": [
        {
          "output_type": "stream",
          "name": "stdout",
          "text": [
            "[1, 4, 9, 16]\n",
            "[2, 4, 6]\n",
            "10\n"
          ]
        }
      ]
    },
    {
      "cell_type": "markdown",
      "source": [
        "##Q11 . Using pen & Paper write the internal mechanism for sum operation using  reduce function on this given list:[47,11,42,13];  \n",
        "\n",
        "#### Ans : The reduce() function applies a function of two arguments cumulatively to the items of an iterable, from left to right, reducing it to a single value. When you use it to sum a list, it works by taking the first two elements, applying the function to them, and then using that result as the first argument for the next pair.\n",
        "\n",
        ">* Step-by-Step Mechanism for reduce(lambda x, y: x + y, [47, 11, 42, 13])\n",
        "Let's break down the process using a step-by-step table. x is the accumulated total so far, and y is the current number from the list. The lambda function x + y adds them together.\n",
        "\n",
        "\n",
        "\n"
      ],
      "metadata": {
        "id": "sWW4-8T7Ugam"
      }
    },
    {
      "cell_type": "code",
      "source": [
        "import pandas as pd\n",
        "from io import StringIO\n",
        "\n",
        "csv_text = \"\"\"Step,x (Accumulator),y (Current Element),Operation (x + y),Intermediate Result\n",
        "Initial,47,11,47 + 11,58\n",
        "2,58,42,58 + 42,100\n",
        "3,100,13,100 + 13,113\n",
        "\"\"\"\n",
        "\n",
        "df = pd.read_csv(StringIO(csv_text))\n",
        "df\n"
      ],
      "metadata": {
        "colab": {
          "base_uri": "https://localhost:8080/",
          "height": 143
        },
        "id": "QLnVBsUdvX7T",
        "outputId": "aa162b63-c695-40ff-8019-bc3779802ae5"
      },
      "execution_count": 41,
      "outputs": [
        {
          "output_type": "execute_result",
          "data": {
            "text/plain": [
              "      Step  x (Accumulator)  y (Current Element) Operation (x + y)  \\\n",
              "0  Initial               47                   11           47 + 11   \n",
              "1        2               58                   42           58 + 42   \n",
              "2        3              100                   13          100 + 13   \n",
              "\n",
              "   Intermediate Result  \n",
              "0                   58  \n",
              "1                  100  \n",
              "2                  113  "
            ],
            "text/html": [
              "\n",
              "  <div id=\"df-c0d24827-9b76-476c-96a0-dd17e4ac576e\" class=\"colab-df-container\">\n",
              "    <div>\n",
              "<style scoped>\n",
              "    .dataframe tbody tr th:only-of-type {\n",
              "        vertical-align: middle;\n",
              "    }\n",
              "\n",
              "    .dataframe tbody tr th {\n",
              "        vertical-align: top;\n",
              "    }\n",
              "\n",
              "    .dataframe thead th {\n",
              "        text-align: right;\n",
              "    }\n",
              "</style>\n",
              "<table border=\"1\" class=\"dataframe\">\n",
              "  <thead>\n",
              "    <tr style=\"text-align: right;\">\n",
              "      <th></th>\n",
              "      <th>Step</th>\n",
              "      <th>x (Accumulator)</th>\n",
              "      <th>y (Current Element)</th>\n",
              "      <th>Operation (x + y)</th>\n",
              "      <th>Intermediate Result</th>\n",
              "    </tr>\n",
              "  </thead>\n",
              "  <tbody>\n",
              "    <tr>\n",
              "      <th>0</th>\n",
              "      <td>Initial</td>\n",
              "      <td>47</td>\n",
              "      <td>11</td>\n",
              "      <td>47 + 11</td>\n",
              "      <td>58</td>\n",
              "    </tr>\n",
              "    <tr>\n",
              "      <th>1</th>\n",
              "      <td>2</td>\n",
              "      <td>58</td>\n",
              "      <td>42</td>\n",
              "      <td>58 + 42</td>\n",
              "      <td>100</td>\n",
              "    </tr>\n",
              "    <tr>\n",
              "      <th>2</th>\n",
              "      <td>3</td>\n",
              "      <td>100</td>\n",
              "      <td>13</td>\n",
              "      <td>100 + 13</td>\n",
              "      <td>113</td>\n",
              "    </tr>\n",
              "  </tbody>\n",
              "</table>\n",
              "</div>\n",
              "    <div class=\"colab-df-buttons\">\n",
              "\n",
              "  <div class=\"colab-df-container\">\n",
              "    <button class=\"colab-df-convert\" onclick=\"convertToInteractive('df-c0d24827-9b76-476c-96a0-dd17e4ac576e')\"\n",
              "            title=\"Convert this dataframe to an interactive table.\"\n",
              "            style=\"display:none;\">\n",
              "\n",
              "  <svg xmlns=\"http://www.w3.org/2000/svg\" height=\"24px\" viewBox=\"0 -960 960 960\">\n",
              "    <path d=\"M120-120v-720h720v720H120Zm60-500h600v-160H180v160Zm220 220h160v-160H400v160Zm0 220h160v-160H400v160ZM180-400h160v-160H180v160Zm440 0h160v-160H620v160ZM180-180h160v-160H180v160Zm440 0h160v-160H620v160Z\"/>\n",
              "  </svg>\n",
              "    </button>\n",
              "\n",
              "  <style>\n",
              "    .colab-df-container {\n",
              "      display:flex;\n",
              "      gap: 12px;\n",
              "    }\n",
              "\n",
              "    .colab-df-convert {\n",
              "      background-color: #E8F0FE;\n",
              "      border: none;\n",
              "      border-radius: 50%;\n",
              "      cursor: pointer;\n",
              "      display: none;\n",
              "      fill: #1967D2;\n",
              "      height: 32px;\n",
              "      padding: 0 0 0 0;\n",
              "      width: 32px;\n",
              "    }\n",
              "\n",
              "    .colab-df-convert:hover {\n",
              "      background-color: #E2EBFA;\n",
              "      box-shadow: 0px 1px 2px rgba(60, 64, 67, 0.3), 0px 1px 3px 1px rgba(60, 64, 67, 0.15);\n",
              "      fill: #174EA6;\n",
              "    }\n",
              "\n",
              "    .colab-df-buttons div {\n",
              "      margin-bottom: 4px;\n",
              "    }\n",
              "\n",
              "    [theme=dark] .colab-df-convert {\n",
              "      background-color: #3B4455;\n",
              "      fill: #D2E3FC;\n",
              "    }\n",
              "\n",
              "    [theme=dark] .colab-df-convert:hover {\n",
              "      background-color: #434B5C;\n",
              "      box-shadow: 0px 1px 3px 1px rgba(0, 0, 0, 0.15);\n",
              "      filter: drop-shadow(0px 1px 2px rgba(0, 0, 0, 0.3));\n",
              "      fill: #FFFFFF;\n",
              "    }\n",
              "  </style>\n",
              "\n",
              "    <script>\n",
              "      const buttonEl =\n",
              "        document.querySelector('#df-c0d24827-9b76-476c-96a0-dd17e4ac576e button.colab-df-convert');\n",
              "      buttonEl.style.display =\n",
              "        google.colab.kernel.accessAllowed ? 'block' : 'none';\n",
              "\n",
              "      async function convertToInteractive(key) {\n",
              "        const element = document.querySelector('#df-c0d24827-9b76-476c-96a0-dd17e4ac576e');\n",
              "        const dataTable =\n",
              "          await google.colab.kernel.invokeFunction('convertToInteractive',\n",
              "                                                    [key], {});\n",
              "        if (!dataTable) return;\n",
              "\n",
              "        const docLinkHtml = 'Like what you see? Visit the ' +\n",
              "          '<a target=\"_blank\" href=https://colab.research.google.com/notebooks/data_table.ipynb>data table notebook</a>'\n",
              "          + ' to learn more about interactive tables.';\n",
              "        element.innerHTML = '';\n",
              "        dataTable['output_type'] = 'display_data';\n",
              "        await google.colab.output.renderOutput(dataTable, element);\n",
              "        const docLink = document.createElement('div');\n",
              "        docLink.innerHTML = docLinkHtml;\n",
              "        element.appendChild(docLink);\n",
              "      }\n",
              "    </script>\n",
              "  </div>\n",
              "\n",
              "\n",
              "    <div id=\"df-e9f5a135-52ad-4382-b18c-be106df8b369\">\n",
              "      <button class=\"colab-df-quickchart\" onclick=\"quickchart('df-e9f5a135-52ad-4382-b18c-be106df8b369')\"\n",
              "                title=\"Suggest charts\"\n",
              "                style=\"display:none;\">\n",
              "\n",
              "<svg xmlns=\"http://www.w3.org/2000/svg\" height=\"24px\"viewBox=\"0 0 24 24\"\n",
              "     width=\"24px\">\n",
              "    <g>\n",
              "        <path d=\"M19 3H5c-1.1 0-2 .9-2 2v14c0 1.1.9 2 2 2h14c1.1 0 2-.9 2-2V5c0-1.1-.9-2-2-2zM9 17H7v-7h2v7zm4 0h-2V7h2v10zm4 0h-2v-4h2v4z\"/>\n",
              "    </g>\n",
              "</svg>\n",
              "      </button>\n",
              "\n",
              "<style>\n",
              "  .colab-df-quickchart {\n",
              "      --bg-color: #E8F0FE;\n",
              "      --fill-color: #1967D2;\n",
              "      --hover-bg-color: #E2EBFA;\n",
              "      --hover-fill-color: #174EA6;\n",
              "      --disabled-fill-color: #AAA;\n",
              "      --disabled-bg-color: #DDD;\n",
              "  }\n",
              "\n",
              "  [theme=dark] .colab-df-quickchart {\n",
              "      --bg-color: #3B4455;\n",
              "      --fill-color: #D2E3FC;\n",
              "      --hover-bg-color: #434B5C;\n",
              "      --hover-fill-color: #FFFFFF;\n",
              "      --disabled-bg-color: #3B4455;\n",
              "      --disabled-fill-color: #666;\n",
              "  }\n",
              "\n",
              "  .colab-df-quickchart {\n",
              "    background-color: var(--bg-color);\n",
              "    border: none;\n",
              "    border-radius: 50%;\n",
              "    cursor: pointer;\n",
              "    display: none;\n",
              "    fill: var(--fill-color);\n",
              "    height: 32px;\n",
              "    padding: 0;\n",
              "    width: 32px;\n",
              "  }\n",
              "\n",
              "  .colab-df-quickchart:hover {\n",
              "    background-color: var(--hover-bg-color);\n",
              "    box-shadow: 0 1px 2px rgba(60, 64, 67, 0.3), 0 1px 3px 1px rgba(60, 64, 67, 0.15);\n",
              "    fill: var(--button-hover-fill-color);\n",
              "  }\n",
              "\n",
              "  .colab-df-quickchart-complete:disabled,\n",
              "  .colab-df-quickchart-complete:disabled:hover {\n",
              "    background-color: var(--disabled-bg-color);\n",
              "    fill: var(--disabled-fill-color);\n",
              "    box-shadow: none;\n",
              "  }\n",
              "\n",
              "  .colab-df-spinner {\n",
              "    border: 2px solid var(--fill-color);\n",
              "    border-color: transparent;\n",
              "    border-bottom-color: var(--fill-color);\n",
              "    animation:\n",
              "      spin 1s steps(1) infinite;\n",
              "  }\n",
              "\n",
              "  @keyframes spin {\n",
              "    0% {\n",
              "      border-color: transparent;\n",
              "      border-bottom-color: var(--fill-color);\n",
              "      border-left-color: var(--fill-color);\n",
              "    }\n",
              "    20% {\n",
              "      border-color: transparent;\n",
              "      border-left-color: var(--fill-color);\n",
              "      border-top-color: var(--fill-color);\n",
              "    }\n",
              "    30% {\n",
              "      border-color: transparent;\n",
              "      border-left-color: var(--fill-color);\n",
              "      border-top-color: var(--fill-color);\n",
              "      border-right-color: var(--fill-color);\n",
              "    }\n",
              "    40% {\n",
              "      border-color: transparent;\n",
              "      border-right-color: var(--fill-color);\n",
              "      border-top-color: var(--fill-color);\n",
              "    }\n",
              "    60% {\n",
              "      border-color: transparent;\n",
              "      border-right-color: var(--fill-color);\n",
              "    }\n",
              "    80% {\n",
              "      border-color: transparent;\n",
              "      border-right-color: var(--fill-color);\n",
              "      border-bottom-color: var(--fill-color);\n",
              "    }\n",
              "    90% {\n",
              "      border-color: transparent;\n",
              "      border-bottom-color: var(--fill-color);\n",
              "    }\n",
              "  }\n",
              "</style>\n",
              "\n",
              "      <script>\n",
              "        async function quickchart(key) {\n",
              "          const quickchartButtonEl =\n",
              "            document.querySelector('#' + key + ' button');\n",
              "          quickchartButtonEl.disabled = true;  // To prevent multiple clicks.\n",
              "          quickchartButtonEl.classList.add('colab-df-spinner');\n",
              "          try {\n",
              "            const charts = await google.colab.kernel.invokeFunction(\n",
              "                'suggestCharts', [key], {});\n",
              "          } catch (error) {\n",
              "            console.error('Error during call to suggestCharts:', error);\n",
              "          }\n",
              "          quickchartButtonEl.classList.remove('colab-df-spinner');\n",
              "          quickchartButtonEl.classList.add('colab-df-quickchart-complete');\n",
              "        }\n",
              "        (() => {\n",
              "          let quickchartButtonEl =\n",
              "            document.querySelector('#df-e9f5a135-52ad-4382-b18c-be106df8b369 button');\n",
              "          quickchartButtonEl.style.display =\n",
              "            google.colab.kernel.accessAllowed ? 'block' : 'none';\n",
              "        })();\n",
              "      </script>\n",
              "    </div>\n",
              "\n",
              "  <div id=\"id_5a06330b-fc60-41ea-9ecc-0f6cfe38c135\">\n",
              "    <style>\n",
              "      .colab-df-generate {\n",
              "        background-color: #E8F0FE;\n",
              "        border: none;\n",
              "        border-radius: 50%;\n",
              "        cursor: pointer;\n",
              "        display: none;\n",
              "        fill: #1967D2;\n",
              "        height: 32px;\n",
              "        padding: 0 0 0 0;\n",
              "        width: 32px;\n",
              "      }\n",
              "\n",
              "      .colab-df-generate:hover {\n",
              "        background-color: #E2EBFA;\n",
              "        box-shadow: 0px 1px 2px rgba(60, 64, 67, 0.3), 0px 1px 3px 1px rgba(60, 64, 67, 0.15);\n",
              "        fill: #174EA6;\n",
              "      }\n",
              "\n",
              "      [theme=dark] .colab-df-generate {\n",
              "        background-color: #3B4455;\n",
              "        fill: #D2E3FC;\n",
              "      }\n",
              "\n",
              "      [theme=dark] .colab-df-generate:hover {\n",
              "        background-color: #434B5C;\n",
              "        box-shadow: 0px 1px 3px 1px rgba(0, 0, 0, 0.15);\n",
              "        filter: drop-shadow(0px 1px 2px rgba(0, 0, 0, 0.3));\n",
              "        fill: #FFFFFF;\n",
              "      }\n",
              "    </style>\n",
              "    <button class=\"colab-df-generate\" onclick=\"generateWithVariable('df')\"\n",
              "            title=\"Generate code using this dataframe.\"\n",
              "            style=\"display:none;\">\n",
              "\n",
              "  <svg xmlns=\"http://www.w3.org/2000/svg\" height=\"24px\"viewBox=\"0 0 24 24\"\n",
              "       width=\"24px\">\n",
              "    <path d=\"M7,19H8.4L18.45,9,17,7.55,7,17.6ZM5,21V16.75L18.45,3.32a2,2,0,0,1,2.83,0l1.4,1.43a1.91,1.91,0,0,1,.58,1.4,1.91,1.91,0,0,1-.58,1.4L9.25,21ZM18.45,9,17,7.55Zm-12,3A5.31,5.31,0,0,0,4.9,8.1,5.31,5.31,0,0,0,1,6.5,5.31,5.31,0,0,0,4.9,4.9,5.31,5.31,0,0,0,6.5,1,5.31,5.31,0,0,0,8.1,4.9,5.31,5.31,0,0,0,12,6.5,5.46,5.46,0,0,0,6.5,12Z\"/>\n",
              "  </svg>\n",
              "    </button>\n",
              "    <script>\n",
              "      (() => {\n",
              "      const buttonEl =\n",
              "        document.querySelector('#id_5a06330b-fc60-41ea-9ecc-0f6cfe38c135 button.colab-df-generate');\n",
              "      buttonEl.style.display =\n",
              "        google.colab.kernel.accessAllowed ? 'block' : 'none';\n",
              "\n",
              "      buttonEl.onclick = () => {\n",
              "        google.colab.notebook.generateWithVariable('df');\n",
              "      }\n",
              "      })();\n",
              "    </script>\n",
              "  </div>\n",
              "\n",
              "    </div>\n",
              "  </div>\n"
            ],
            "application/vnd.google.colaboratory.intrinsic+json": {
              "type": "dataframe",
              "variable_name": "df",
              "summary": "{\n  \"name\": \"df\",\n  \"rows\": 3,\n  \"fields\": [\n    {\n      \"column\": \"Step\",\n      \"properties\": {\n        \"dtype\": \"string\",\n        \"num_unique_values\": 3,\n        \"samples\": [\n          \"Initial\",\n          \"2\",\n          \"3\"\n        ],\n        \"semantic_type\": \"\",\n        \"description\": \"\"\n      }\n    },\n    {\n      \"column\": \"x (Accumulator)\",\n      \"properties\": {\n        \"dtype\": \"number\",\n        \"std\": 27,\n        \"min\": 47,\n        \"max\": 100,\n        \"num_unique_values\": 3,\n        \"samples\": [\n          47,\n          58,\n          100\n        ],\n        \"semantic_type\": \"\",\n        \"description\": \"\"\n      }\n    },\n    {\n      \"column\": \"y (Current Element)\",\n      \"properties\": {\n        \"dtype\": \"number\",\n        \"std\": 17,\n        \"min\": 11,\n        \"max\": 42,\n        \"num_unique_values\": 3,\n        \"samples\": [\n          11,\n          42,\n          13\n        ],\n        \"semantic_type\": \"\",\n        \"description\": \"\"\n      }\n    },\n    {\n      \"column\": \"Operation (x + y)\",\n      \"properties\": {\n        \"dtype\": \"string\",\n        \"num_unique_values\": 3,\n        \"samples\": [\n          \"47 + 11\",\n          \"58 + 42\",\n          \"100 + 13\"\n        ],\n        \"semantic_type\": \"\",\n        \"description\": \"\"\n      }\n    },\n    {\n      \"column\": \"Intermediate Result\",\n      \"properties\": {\n        \"dtype\": \"number\",\n        \"std\": 28,\n        \"min\": 58,\n        \"max\": 113,\n        \"num_unique_values\": 3,\n        \"samples\": [\n          58,\n          100,\n          113\n        ],\n        \"semantic_type\": \"\",\n        \"description\": \"\"\n      }\n    }\n  ]\n}"
            }
          },
          "metadata": {},
          "execution_count": 41
        }
      ]
    },
    {
      "cell_type": "markdown",
      "source": [
        "# Practical Questions"
      ],
      "metadata": {
        "id": "ghGDRlvDClZm"
      }
    },
    {
      "cell_type": "markdown",
      "source": [
        "## Q1 . Write a Python function that takes a list of numbers as input and returns the sum of all even numbers in list.\n"
      ],
      "metadata": {
        "id": "zVDhY7x9C3tU"
      }
    },
    {
      "cell_type": "code",
      "source": [
        "def sum_even(nums):\n",
        "    return sum(x for x in nums if x % 2 == 0)\n",
        "\n",
        "# Example\n",
        "print(sum_even([1, 2, 3, 4, 10]))\n"
      ],
      "metadata": {
        "colab": {
          "base_uri": "https://localhost:8080/"
        },
        "id": "bkDZ7oLxESQN",
        "outputId": "0933fa81-16c6-4387-ceaa-8006a5b506fd"
      },
      "execution_count": 40,
      "outputs": [
        {
          "output_type": "stream",
          "name": "stdout",
          "text": [
            "16\n"
          ]
        }
      ]
    },
    {
      "cell_type": "markdown",
      "source": [
        "## Q2 . Create a Python function that accepts a string and returns the reverse of that string."
      ],
      "metadata": {
        "id": "Wwua8CE0HVeX"
      }
    },
    {
      "cell_type": "code",
      "source": [
        "def reverse_string(text: str)-> str:\n",
        "    return text[::-1]\n",
        "\n",
        "# Example usage:\n",
        "print(reverse_string(\"Hello\"))\n"
      ],
      "metadata": {
        "id": "KUnpCLOkHj99",
        "colab": {
          "base_uri": "https://localhost:8080/"
        },
        "outputId": "7ba88ca2-45a6-4853-ffeb-d045e1c4cef7"
      },
      "execution_count": null,
      "outputs": [
        {
          "output_type": "stream",
          "name": "stdout",
          "text": [
            "olleH\n"
          ]
        }
      ]
    },
    {
      "cell_type": "markdown",
      "source": [
        "## Q3 . Implement a Python function that takes a list of integers and returns a new list containing the squares of each number.\n"
      ],
      "metadata": {
        "id": "SdIlro36OYHa"
      }
    },
    {
      "cell_type": "code",
      "source": [
        "def square_list(numbers):\n",
        "    result = []\n",
        "    for num in numbers:\n",
        "        result.append(num * num)\n",
        "    return result\n",
        "\n",
        "# Example\n",
        "print(square_list([1, 2, 3, 4, 5]))\n"
      ],
      "metadata": {
        "colab": {
          "base_uri": "https://localhost:8080/"
        },
        "id": "vfT7BMx_Ood_",
        "outputId": "3547142b-d6ee-4829-c2a5-2dde32009564"
      },
      "execution_count": null,
      "outputs": [
        {
          "output_type": "stream",
          "name": "stdout",
          "text": [
            "[1, 4, 9, 16, 25]\n"
          ]
        }
      ]
    },
    {
      "cell_type": "markdown",
      "source": [
        "## Q4 . Write a Python function that checks if a given number is prime or not from 1 to 200."
      ],
      "metadata": {
        "id": "xoVuGzSZPc1_"
      }
    },
    {
      "cell_type": "code",
      "source": [
        "def is_prime(num):\n",
        "    if num < 2:   # 0 and 1 are not prime\n",
        "        return False\n",
        "    for i in range(2, int(num**0.5) + 1):  # check divisibility up to square root\n",
        "        if num % i == 0:\n",
        "            return False\n",
        "    return True\n",
        "\n",
        "# Checking prime numbers from 1 to 200\n",
        "for n in range(1, 201):\n",
        "    if is_prime(n):\n",
        "        print(n, \"is a prime number\")\n"
      ],
      "metadata": {
        "colab": {
          "base_uri": "https://localhost:8080/"
        },
        "id": "-k-3aBsHPbbu",
        "outputId": "a75551f5-f2cd-4458-8a56-5fdbcf93660e"
      },
      "execution_count": null,
      "outputs": [
        {
          "output_type": "stream",
          "name": "stdout",
          "text": [
            "2 is a prime number\n",
            "3 is a prime number\n",
            "5 is a prime number\n",
            "7 is a prime number\n",
            "11 is a prime number\n",
            "13 is a prime number\n",
            "17 is a prime number\n",
            "19 is a prime number\n",
            "23 is a prime number\n",
            "29 is a prime number\n",
            "31 is a prime number\n",
            "37 is a prime number\n",
            "41 is a prime number\n",
            "43 is a prime number\n",
            "47 is a prime number\n",
            "53 is a prime number\n",
            "59 is a prime number\n",
            "61 is a prime number\n",
            "67 is a prime number\n",
            "71 is a prime number\n",
            "73 is a prime number\n",
            "79 is a prime number\n",
            "83 is a prime number\n",
            "89 is a prime number\n",
            "97 is a prime number\n",
            "101 is a prime number\n",
            "103 is a prime number\n",
            "107 is a prime number\n",
            "109 is a prime number\n",
            "113 is a prime number\n",
            "127 is a prime number\n",
            "131 is a prime number\n",
            "137 is a prime number\n",
            "139 is a prime number\n",
            "149 is a prime number\n",
            "151 is a prime number\n",
            "157 is a prime number\n",
            "163 is a prime number\n",
            "167 is a prime number\n",
            "173 is a prime number\n",
            "179 is a prime number\n",
            "181 is a prime number\n",
            "191 is a prime number\n",
            "193 is a prime number\n",
            "197 is a prime number\n",
            "199 is a prime number\n"
          ]
        }
      ]
    },
    {
      "cell_type": "markdown",
      "source": [
        "## Q5 . Create an iterator class in Python that generates the Fibonacci sequence up to a specified number of terms.\n"
      ],
      "metadata": {
        "id": "4IW3iCbuP_7N"
      }
    },
    {
      "cell_type": "code",
      "source": [
        "class FibonacciIterator:\n",
        "    def __init__(self, n_terms):\n",
        "        self.n_terms = n_terms   # how many numbers we want\n",
        "        self.count = 0           # to keep track of how many we’ve generated\n",
        "        self.a, self.b = 0, 1    # starting values of Fibonacci\n",
        "\n",
        "    def __iter__(self):\n",
        "        return self\n",
        "\n",
        "    def __next__(self):\n",
        "        if self.count >= self.n_terms:\n",
        "            raise StopIteration   # stop when terms are finished\n",
        "        if self.count == 0:\n",
        "            self.count += 1\n",
        "            return 0\n",
        "        elif self.count == 1:\n",
        "            self.count += 1\n",
        "            return 1\n",
        "        else:\n",
        "            self.a, self.b = self.b, self.a + self.b\n",
        "            self.count += 1\n",
        "            return self.b\n",
        "\n",
        "# Example usage\n",
        "fib = FibonacciIterator(10)\n",
        "for num in fib:\n",
        "    print(num, end=\" \")\n"
      ],
      "metadata": {
        "colab": {
          "base_uri": "https://localhost:8080/"
        },
        "id": "JJXvZ4DnRF7z",
        "outputId": "af36c022-1edc-45a5-fb96-d11583ecdbdb"
      },
      "execution_count": null,
      "outputs": [
        {
          "output_type": "stream",
          "name": "stdout",
          "text": [
            "0 1 1 2 3 5 8 13 21 34 "
          ]
        }
      ]
    },
    {
      "cell_type": "markdown",
      "source": [
        "## Q6 . Write a generator function in Python that yields the powers of 2 up to a given exponent."
      ],
      "metadata": {
        "id": "ReNo2PGlRPag"
      }
    },
    {
      "cell_type": "code",
      "source": [
        "def powers_of_two(limit):\n",
        "    for exp in range(limit + 1):\n",
        "        yield 2 ** exp\n",
        "\n",
        "# Example usage\n",
        "for num in powers_of_two(5):\n",
        "    print(num)\n"
      ],
      "metadata": {
        "colab": {
          "base_uri": "https://localhost:8080/"
        },
        "id": "tTOiF5BoRfkr",
        "outputId": "1f8c060a-84c2-439e-8e25-3ff2989b7e72"
      },
      "execution_count": null,
      "outputs": [
        {
          "output_type": "stream",
          "name": "stdout",
          "text": [
            "1\n",
            "2\n",
            "4\n",
            "8\n",
            "16\n",
            "32\n"
          ]
        }
      ]
    },
    {
      "cell_type": "markdown",
      "source": [
        "## Q7 . Implement a generator function that reads a file line by line and yields each line as a string."
      ],
      "metadata": {
        "id": "3-ehrBhXRptt"
      }
    },
    {
      "cell_type": "code",
      "source": [
        "def read_lines(filepath):\n",
        "    with open(filepath, 'r', encoding='utf-8') as f:\n",
        "        for line in f:\n",
        "            yield line.rstrip('\\n')\n",
        "\n",
        "for line in read_lines('demo_file.txt'):\n",
        "    print(line)\n"
      ],
      "metadata": {
        "id": "flrkJbMGSW3v",
        "colab": {
          "base_uri": "https://localhost:8080/"
        },
        "outputId": "fea145ba-e19b-44fb-df95-f0142410c0ed"
      },
      "execution_count": 33,
      "outputs": [
        {
          "output_type": "stream",
          "name": "stdout",
          "text": [
            "alpha\n",
            "beta\n",
            "gamma\n"
          ]
        }
      ]
    },
    {
      "cell_type": "markdown",
      "source": [
        "## Q8 . Use a lambda function in Python to sort a list of tuples based on the second element of each tuple."
      ],
      "metadata": {
        "id": "4E84rIgPnBEn"
      }
    },
    {
      "cell_type": "markdown",
      "source": [],
      "metadata": {
        "id": "aB9-wDvgm_Yi"
      }
    },
    {
      "cell_type": "code",
      "source": [
        "\n",
        "data = [(1, 5), (3, 1), (4, 8), (2, 3)]\n",
        "\n",
        "# Sorting based on the second element using lambda\n",
        "sorted_data = sorted(data, key=lambda x: x[1])\n",
        "\n",
        "print(\"Original list:\", data)\n",
        "print(\"Sorted list (by second element):\", sorted_data)\n"
      ],
      "metadata": {
        "colab": {
          "base_uri": "https://localhost:8080/"
        },
        "id": "y8d0apiDnPST",
        "outputId": "288a4119-2d64-4716-b7b1-e8331ea86e9d"
      },
      "execution_count": 34,
      "outputs": [
        {
          "output_type": "stream",
          "name": "stdout",
          "text": [
            "Original list: [(1, 5), (3, 1), (4, 8), (2, 3)]\n",
            "Sorted list (by second element): [(3, 1), (2, 3), (1, 5), (4, 8)]\n"
          ]
        }
      ]
    },
    {
      "cell_type": "markdown",
      "source": [
        "## Q9 . Write a Python program that uses `map()` to convert a list of temperatures from Celsius to Fahrenheit."
      ],
      "metadata": {
        "id": "hNwaq9jmoUal"
      }
    },
    {
      "cell_type": "code",
      "source": [
        "# Function to convert Celsius to Fahrenheit\n",
        "def c_to_f(celsius):\n",
        "    return (celsius * 9/5) + 32\n",
        "\n",
        "# List of temperatures in Celsius\n",
        "celsius_temps = [0, 20, 37, 100]\n",
        "\n",
        "# Using map() to convert each Celsius value to Fahrenheit\n",
        "fahrenheit_temps = list(map(c_to_f, celsius_temps))\n",
        "\n",
        "print(\"Celsius:    \", celsius_temps)\n",
        "print(\"Fahrenheit: \", fahrenheit_temps)\n"
      ],
      "metadata": {
        "colab": {
          "base_uri": "https://localhost:8080/"
        },
        "id": "uGQWduKYorua",
        "outputId": "d2aa8ce9-5143-463f-a097-152478423c7e"
      },
      "execution_count": 35,
      "outputs": [
        {
          "output_type": "stream",
          "name": "stdout",
          "text": [
            "Celsius:     [0, 20, 37, 100]\n",
            "Fahrenheit:  [32.0, 68.0, 98.6, 212.0]\n"
          ]
        }
      ]
    },
    {
      "cell_type": "markdown",
      "source": [
        "## Q10 . Create a Python program that uses `filter()` to remove all the vowels from a given string."
      ],
      "metadata": {
        "id": "DS224ETioye6"
      }
    },
    {
      "cell_type": "code",
      "source": [
        "# Function to check if a character is NOT a vowel\n",
        "def not_vowel(ch):\n",
        "    vowels = \"aeiouAEIOU\"\n",
        "    return ch not in vowels\n",
        "\n",
        "# Input string\n",
        "text = \"Hello World, Python is awesome!\"\n",
        "\n",
        "# Use filter() to keep only non-vowel characters\n",
        "result = \"\".join(filter(not_vowel, text))\n",
        "\n",
        "print(\"Original String:\", text)\n",
        "print(\"Without Vowels :\", result)\n"
      ],
      "metadata": {
        "colab": {
          "base_uri": "https://localhost:8080/"
        },
        "id": "hTsSjGc5o7ws",
        "outputId": "fda64cb2-344c-48f6-d556-cbe52150fd4a"
      },
      "execution_count": 36,
      "outputs": [
        {
          "output_type": "stream",
          "name": "stdout",
          "text": [
            "Original String: Hello World, Python is awesome!\n",
            "Without Vowels : Hll Wrld, Pythn s wsm!\n"
          ]
        }
      ]
    },
    {
      "cell_type": "markdown",
      "source": [
        "## Q11 . Imagine an accounting routine used in a book shop. It works on a list with sublists, which look like this:\n",
        "## Write a Python program, which returns a list with 2-tuples. Each tuple consists of the order number and the product of the price per item and the quantity. The product should be increased by 10,- € if the value of the order is smaller than 100,00 €.\n",
        "## Write a Python program using lambda and map.\n",
        "\n"
      ],
      "metadata": {
        "id": "YKeKK7s6pTMp"
      }
    },
    {
      "cell_type": "code",
      "source": [
        "# Orders list: [Order Number, Book Title, Quantity, Price per Item]\n",
        "orders = [\n",
        "    [34587, \"Learning Python, Mark Lutz\", 4, 40.95],\n",
        "    [98762, \"Programming Python, Mark Lutz\", 5, 56.80],\n",
        "    [77226, \"Head First Python, Paul Barry\", 3, 32.95],\n",
        "    [88112, \"Einführung in Python3, Bernd Klein\", 3, 24.99]\n",
        "]\n",
        "\n",
        "# Using map() and lambda\n",
        "final_orders = list(map(\n",
        "    lambda order: (order[0], order[2] * order[3] + 10 if order[2] * order[3] < 100 else order[2] * order[3]),\n",
        "    orders\n",
        "))\n",
        "\n",
        "print(final_orders)\n"
      ],
      "metadata": {
        "colab": {
          "base_uri": "https://localhost:8080/"
        },
        "id": "IkB16BRQrxQy",
        "outputId": "a62b16e7-6d00-490d-9888-9047e3d8147d"
      },
      "execution_count": 39,
      "outputs": [
        {
          "output_type": "stream",
          "name": "stdout",
          "text": [
            "[(34587, 163.8), (98762, 284.0), (77226, 108.85000000000001), (88112, 84.97)]\n"
          ]
        }
      ]
    }
  ]
}